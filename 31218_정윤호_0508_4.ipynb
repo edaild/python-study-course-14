{
 "cells": [
  {
   "cell_type": "markdown",
   "id": "f3cceada",
   "metadata": {},
   "source": [
    "31218_정윤호_0508_4"
   ]
  },
  {
   "cell_type": "markdown",
   "id": "2a7ee23b",
   "metadata": {},
   "source": [
    "# 영어단어장 만들기\n",
    "\n",
    "엔터를 입력할 때까지 영어단어, 뜻을 입력받아 단어장을 만들고, 입력이 끝나면 단어 테스트를 실시하는 프로그램을 만들어봅시시다.<br>\n",
    "1) 단어장을 만듭니다.<br>\n",
    "2) 단어테스트를 실시하고 맞은 갯수를 계산합니다.<br>\n",
    "3) 테스트가 끝나면 맞은갯수/전체단어수/점수 형태로 결과를 출력합니다.<br>"
   ]
  },
  {
   "cell_type": "markdown",
   "id": "076160af",
   "metadata": {},
   "source": [
    "### 단어장 만들기\n",
    "엔터(' ')를 입력할 떄까지 영어단어, 뜻을 입력받아 딕셔너리에 저장"
   ]
  },
  {
   "cell_type": "code",
   "execution_count": 5,
   "id": "ab7edac5",
   "metadata": {},
   "outputs": [
    {
     "name": "stdout",
     "output_type": "stream",
     "text": [
      "영어단어,뜻:apple,사과\n",
      "영어단어,뜻:banana,바나나\n",
      "영어단어,뜻:grapes,포도\n",
      "영어단어,뜻:kiwi,키위\n",
      "영어단어,뜻:\n"
     ]
    },
    {
     "data": {
      "text/plain": [
       "{'apple': '사과', 'banana': '바나나', 'grapes': '포도', 'kiwi': '키위'}"
      ]
     },
     "execution_count": 5,
     "metadata": {},
     "output_type": "execute_result"
    }
   ],
   "source": [
    "# 빈 딕셔너리 만든다.\n",
    "dict_word = {}\n",
    "while True:\n",
    "    input_word = input('영어단어,뜻:')\n",
    "    if input_word == '':\n",
    "        break\n",
    "    eng = input_word.split(',')[0]\n",
    "    kor = input_word.split(',')[1]\n",
    "    dict_word[eng] = kor\n",
    "dict_word"
   ]
  },
  {
   "cell_type": "markdown",
   "id": "1c06c97b",
   "metadata": {},
   "source": [
    "## 단어테스트\n",
    "\n",
    "단어장의 단어들을 모두 테스트<br>\n",
    "맞은 갯수는 별도로 카운트"
   ]
  },
  {
   "cell_type": "code",
   "execution_count": 7,
   "id": "145129f9",
   "metadata": {},
   "outputs": [
    {
     "name": "stdout",
     "output_type": "stream",
     "text": [
      "apple사과\n",
      "맞음\n",
      "banana바나나\n",
      "맞음\n",
      "grapes포칼루스\n",
      "틀림\n",
      "kiwi키위\n",
      "맞음\n"
     ]
    }
   ],
   "source": [
    "# 카운트 변수 초기화\n",
    "cnt = 0\n",
    "for eng,kor in dict_word.items():\n",
    "    answer = input(eng)\n",
    "    if answer == kor :\n",
    "        print(f'맞음')\n",
    "        cnt += 1\n",
    "    else:\n",
    "        print(f'틀림')"
   ]
  },
  {
   "cell_type": "markdown",
   "id": "3a941128",
   "metadata": {},
   "source": [
    "## 테스트 결과 출력\n",
    "맞은갯수/전체문제수/점수 출력"
   ]
  },
  {
   "cell_type": "code",
   "execution_count": 12,
   "id": "fb43d2a0",
   "metadata": {},
   "outputs": [
    {
     "name": "stdout",
     "output_type": "stream",
     "text": [
      "맞은갯수 :  3\n",
      "전체문제수 :  4\n",
      "점수는 :  75.0\n"
     ]
    }
   ],
   "source": [
    "print('맞은갯수 : ', cnt )\n",
    "print('전체문제수 : ', len(dict_word))\n",
    "print('점수는 : ',round(cnt/len(dict_word)*100,1))"
   ]
  },
  {
   "cell_type": "code",
   "execution_count": null,
   "id": "72af72e8",
   "metadata": {},
   "outputs": [],
   "source": []
  }
 ],
 "metadata": {
  "kernelspec": {
   "display_name": "Python 3 (ipykernel)",
   "language": "python",
   "name": "python3"
  },
  "language_info": {
   "codemirror_mode": {
    "name": "ipython",
    "version": 3
   },
   "file_extension": ".py",
   "mimetype": "text/x-python",
   "name": "python",
   "nbconvert_exporter": "python",
   "pygments_lexer": "ipython3",
   "version": "3.9.7"
  }
 },
 "nbformat": 4,
 "nbformat_minor": 5
}
